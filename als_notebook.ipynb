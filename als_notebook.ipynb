{
 "cells": [
  {
   "cell_type": "code",
   "execution_count": null,
   "metadata": {},
   "outputs": [],
   "source": [
    "# --- Import Libraries\n",
    "import copy\n",
    "import numpy as np\n",
    "import tensorflow as tf\n",
    "from tensorflow.keras import Model, Sequential, layers, losses, optimizers\n",
    "from sklearn import random_projection\n",
    "from sklearn.metrics import accuracy_score\n",
    "\n",
    "from op import *\n",
    "from ae import *\n",
    "from utils import *\n",
    "from metrics import *\n",
    "from trainer import *\n",
    "from data import Dataset\n",
    "\n",
    "np.set_printoptions(precision=3)"
   ]
  },
  {
   "cell_type": "markdown",
   "metadata": {},
   "source": [
    "**Notes:** \n",
    "\n",
    "**Deeper better than wider!**\n",
    "**|**\n",
    "**Nonlinear > Linear!**\n",
    "**|**\n",
    "**Small batch size = smaller loss!**\n",
    "* https://link.springer.com/article/10.1007/s10044-018-0697-0\n",
    "* https://keras.io/examples/vision/grad_cam/"
   ]
  },
  {
   "cell_type": "code",
   "execution_count": null,
   "metadata": {},
   "outputs": [],
   "source": [
    "#--- Autoselect GPU\n",
    "from jarvis.utils.general import gpus\n",
    "gpus.autoselect()"
   ]
  },
  {
   "cell_type": "code",
   "execution_count": null,
   "metadata": {},
   "outputs": [],
   "source": [
    "def run_pipeline(dataset, mode):\n",
    "    # --- Reproducibility\n",
    "    tf.random.set_seed(0)\n",
    "    np.random.seed(0)\n",
    "    \n",
    "    # --- Feature Selection\n",
    "    dataset.feature_selection(norm=False, percentile=10, mode=mode)\n",
    "    print(dataset.features_.shape)\n",
    "    print(dataset.features.shape)\n",
    "    \n",
    "    # --- Train Model\n",
    "    print('Training using {} feature selection'.format(mode))\n",
    "#     history, model = learn(dataset, batch_size=64, epochs=60, n_folds=5)\n",
    "    history, model = learn(dataset, batch_size=64, epochs=60, n_folds=1)\n",
    "    \n",
    "    return history, model"
   ]
  },
  {
   "cell_type": "code",
   "execution_count": null,
   "metadata": {},
   "outputs": [],
   "source": [
    "# --- Prepare Data\n",
    "if 'dataset' not in globals():\n",
    "    path = ['data/ctrl_vs_case.csv', 'data/bulbar_vs_limb.csv', 'data/median_low_vs_high.csv']\n",
    "    dataset = Dataset(path, train_size=0.7)"
   ]
  },
  {
   "cell_type": "code",
   "execution_count": null,
   "metadata": {},
   "outputs": [],
   "source": [
    "# --- Train Models\n",
    "# modes = ['no', 'chi', 'mutual_info']\n",
    "modes = ['no']\n",
    "for mode in modes:\n",
    "    history, model = run_pipeline(dataset, mode)"
   ]
  },
  {
   "cell_type": "code",
   "execution_count": null,
   "metadata": {},
   "outputs": [],
   "source": [
    "def recon(model, dataset, i, n):\n",
    "    print(model.predict(dataset.xte)[1].squeeze()[i, :n])\n",
    "    print(dataset.xte.squeeze()[i, :n])\n",
    "    \n",
    "recon(model, dataset, 9, 8)"
   ]
  },
  {
   "cell_type": "code",
   "execution_count": null,
   "metadata": {},
   "outputs": [],
   "source": [
    "\n",
    "pid = dataset.data.columns[0]\n",
    "lbls = [lbl for lbl in dataset.label_names.keys()]\n",
    "data = dataset.data.drop([pid], axis=1)\n",
    "data = data.drop(lbls, axis=1)"
   ]
  },
  {
   "cell_type": "markdown",
   "metadata": {},
   "source": [
    "# Machine Learning Stuff..."
   ]
  },
  {
   "cell_type": "code",
   "execution_count": null,
   "metadata": {},
   "outputs": [],
   "source": [
    "def default_dataset():\n",
    "    path = 'data/ctrl_vs_case.csv'\n",
    "    dataset = Dataset(path, train_size=0.7)\n",
    "    dataset.feature_selection(mode='no')\n",
    "    return dataset"
   ]
  },
  {
   "cell_type": "code",
   "execution_count": null,
   "metadata": {},
   "outputs": [],
   "source": [
    "# dataset = default_dataset()\n",
    "Xtr, Xte, Ytr, Yte = [np.array(data.squeeze()) for data in [dataset.xtr, dataset.xte, dataset.ytr, dataset.yte]]"
   ]
  },
  {
   "cell_type": "code",
   "execution_count": null,
   "metadata": {},
   "outputs": [],
   "source": [
    "from sklearn.decomposition import PCA\n",
    "from sklearn.tree import DecisionTreeClassifier\n",
    "from sklearn.neighbors import KNeighborsClassifier\n",
    "from sklearn.ensemble import RandomForestClassifier\n",
    "from sklearn.model_selection import StratifiedKFold\n",
    "\n",
    "\n",
    "def cross_valid(model, dataset, n_folds=5):\n",
    "    x = dataset.features_\n",
    "    y = dataset.labels\n",
    "    kf = StratifiedKFold(n_splits=n_folds)\n",
    "\n",
    "    for train_index, test_index in kf.split(x, y):\n",
    "        xtr, xte = x[train_index], x[test_index]\n",
    "        ytr, yte = y[train_index], y[test_index]\n",
    "        data = (xtr.squeeze(), ytr, xte.squeeze(), yte)\n",
    "        model(*data)\n",
    "        \n",
    "    return model\n",
    "\n",
    "\n",
    "def pca(x, n=100, verbose=False):\n",
    "    model = PCA(n).fit(x)\n",
    "    if verbose:\n",
    "        plt.plot(np.cumsum(model.explained_variance_ratio_))\n",
    "        plt.xlabel('n components')\n",
    "        plt.ylabel('cumulative variance');\n",
    "    return model\n",
    "\n",
    "\n",
    "def hard_predict(model, x):\n",
    "    return model.predict(x)\n",
    "\n",
    "\n",
    "def soft_predict(model, x):\n",
    "    return model.predict_proba(x)[:, 1]\n",
    "\n",
    "\n",
    "def plot_curves(model, x, y):\n",
    "    pred = hard_predict(model, x)\n",
    "    conf_scores = soft_predict(model, x)\n",
    "    plot_auc(y, conf_scores, mode='roc', lw=2)\n",
    "    plot_auc(y, conf_scores, mode='prc', lw=2)\n",
    "    \n",
    "    \n",
    "def results(model, xtr, ytr, xte, yte):\n",
    "    print('==================')\n",
    "    print('baseline train acc: {}'.format(class_one_acc(ytr)))\n",
    "    print('baseline test acc : {}'.format(class_one_acc(yte)))\n",
    "    print()\n",
    "    hptr = hard_predict(model, xtr)\n",
    "    hpte = hard_predict(model, xte)\n",
    "    print('model train acc: {}'.format(acc(ytr, hptr)))\n",
    "    print('model test acc: {}'.format(acc(yte, hpte)))\n",
    "    print()\n",
    "    sptr = soft_predict(model, xtr)\n",
    "    spte = soft_predict(model, xte)\n",
    "    print('model train auc: {}'.format(roc_auc(ytr, sptr)))\n",
    "    print('model test auc: {}'.format(roc_auc(yte, spte)))\n",
    "    print('==================')\n",
    "    \n",
    "    print('Test-set')\n",
    "    plot_curves(model, xte, yte)\n",
    "    \n",
    "\n",
    "def knn(xtr, ytr, xte, yte, n=3):\n",
    "    model = KNeighborsClassifier(n_neighbors=n)\n",
    "    model.fit(xtr, ytr)\n",
    "    \n",
    "    results(model, xtr, ytr, xte, yte)\n",
    "    \n",
    "    \n",
    "def rf(xtr, ytr, xte, yte, d=2):\n",
    "    model = RandomForestClassifier(n_estimators=500, max_depth=2, random_state=0, class_weight='balanced')\n",
    "    model.fit(xtr, ytr)\n",
    "    \n",
    "    results(model, xtr, ytr, xte, yte)\n",
    "    \n",
    "def dt(xtr, ytr, xte, yte):\n",
    "    model = DecisionTreeClassifier()\n",
    "    model.fit(xtr, ytr)\n",
    "    \n",
    "    results(model, xtr, ytr, xte, yte)"
   ]
  },
  {
   "cell_type": "code",
   "execution_count": null,
   "metadata": {},
   "outputs": [],
   "source": [
    "def demo(Xtr, Xte, Ytr, Yte):\n",
    "    # pca\n",
    "    pc = pca(Xtr)\n",
    "    xtr = pc.transform(Xtr)\n",
    "    xte = pc.transform(Xte)\n",
    "    print(Xtr.shape, xtr.shape)\n",
    "\n",
    "    print('- KNN')\n",
    "    knn(Xtr, Ytr, Xte, Yte)\n",
    "    print('- PCA')\n",
    "    knn(xtr, Ytr, xte, Yte)\n",
    "    print()\n",
    "    print('- RF')\n",
    "    rf(Xtr, Ytr, Xte, Yte)\n",
    "    print('- PCA')\n",
    "    rf(xtr, Ytr, xte, Yte)\n",
    "    print()\n",
    "    print('- DT')\n",
    "    dt(Xtr, Ytr, Xte, Yte)\n",
    "    print('- PCA')\n",
    "    dt(xtr, Ytr, xte, Yte)\n",
    "    \n",
    "demo(Xtr, Xte, Ytr, Yte)"
   ]
  },
  {
   "cell_type": "code",
   "execution_count": null,
   "metadata": {},
   "outputs": [],
   "source": [
    "cross_valid(dt, dataset, n_folds=5)"
   ]
  },
  {
   "cell_type": "code",
   "execution_count": null,
   "metadata": {},
   "outputs": [],
   "source": [
    "# TODO: check representational power of PCA features\n",
    "\n",
    "dataset.pca(n_components=10, verbose=True)\n",
    "np.sum(dataset.pca_.explained_variance_ratio_)"
   ]
  },
  {
   "cell_type": "code",
   "execution_count": null,
   "metadata": {},
   "outputs": [],
   "source": [
    "pca_importance(dataset)"
   ]
  },
  {
   "cell_type": "code",
   "execution_count": null,
   "metadata": {},
   "outputs": [],
   "source": [
    "# One pass through training split\n",
    "\n",
    "def demo(Xtr, Xte, Ytr, Yte):\n",
    "    pc = pca(Xtr)\n",
    "    xtr = pc.transform(Xtr)\n",
    "    xte = pc.transform(Xte)\n",
    "    print(Xtr.shape, xtr.shape)\n",
    "\n",
    "    print('- KNN')\n",
    "    knn(Xtr, Ytr, Xte, Yte)\n",
    "    print('- PCA')\n",
    "    knn(xtr, Ytr, xte, Yte)\n",
    "    print()\n",
    "    print('- RF')\n",
    "    rf(Xtr, Ytr, Xte, Yte)\n",
    "    print('- PCA')\n",
    "    rf(xtr, Ytr, xte, Yte)\n",
    "    print()\n",
    "    print('- DT')\n",
    "    dt(Xtr, Ytr, Xte, Yte)\n",
    "    print('- PCA')\n",
    "    dt(xtr, Ytr, xte, Yte)\n",
    "    \n",
    "demo(Xtr, Xte, Ytr, Yte)"
   ]
  }
 ],
 "metadata": {
  "kernelspec": {
   "display_name": "Python 3",
   "language": "python",
   "name": "python3"
  },
  "language_info": {
   "codemirror_mode": {
    "name": "ipython",
    "version": 3
   },
   "file_extension": ".py",
   "mimetype": "text/x-python",
   "name": "python",
   "nbconvert_exporter": "python",
   "pygments_lexer": "ipython3",
   "version": "3.6.12"
  }
 },
 "nbformat": 4,
 "nbformat_minor": 4
}
