{
 "cells": [
  {
   "cell_type": "code",
   "execution_count": 1,
   "metadata": {},
   "outputs": [],
   "source": [
    "# --- Import Libraries\n",
    "import copy\n",
    "import numpy as np\n",
    "import tensorflow as tf\n",
    "from tensorflow.keras import Model, Sequential, layers, losses, optimizers\n",
    "from sklearn import random_projection\n",
    "from sklearn.metrics import accuracy_score\n",
    "\n",
    "from op import *\n",
    "from utils import *\n",
    "from metrics import *\n",
    "from data import Dataset"
   ]
  },
  {
   "cell_type": "markdown",
   "metadata": {},
   "source": [
    "**Notes:** \n",
    "* https://link.springer.com/article/10.1007/s10044-018-0697-0\n",
    "* https://keras.io/examples/vision/grad_cam/"
   ]
  },
  {
   "cell_type": "code",
   "execution_count": 2,
   "metadata": {},
   "outputs": [
    {
     "name": "stdout",
     "output_type": "stream",
     "text": [
      "[ 2021-04-28 15:11:55 ] CUDA_VISIBLE_DEVICES automatically set to: 1           \n"
     ]
    }
   ],
   "source": [
    "#--- Autoselect GPU\n",
    "from jarvis.utils.general import gpus\n",
    "gpus.autoselect()"
   ]
  },
  {
   "cell_type": "code",
   "execution_count": 3,
   "metadata": {},
   "outputs": [],
   "source": [
    "# --- Model Blocks\n",
    "conv = lambda x, features, dr=1, name=None : layers.Conv1D(filters=features, kernel_size=1, strides=1, dilation_rate=dr, padding='same', name=name)(x)\n",
    "elu  = lambda x: layers.ELU()(x)\n",
    "norm = lambda x: layers.BatchNormalization()(x)\n",
    "mlp  = lambda x, features, dr=1: elu(norm((conv(x, features, dr))))\n",
    "\n",
    "# --- Model Architecture\n",
    "def encoder(x, features):\n",
    "    for f in features:\n",
    "        x = mlp(x, f)\n",
    "    return x\n",
    "\n",
    "def decoder(x, features):\n",
    "    features = features[::-1]\n",
    "    for f in features:\n",
    "        x = mlp(x, f)\n",
    "    return x\n",
    "\n",
    "def network(dataset):\n",
    "    x = dataset.Input\n",
    "    input_size = x.shape[-1]\n",
    "    features = [128, 32]\n",
    "    embed_size = 32\n",
    "    outputs = {}\n",
    "    \n",
    "    x_ = encoder(x, features)\n",
    "    embedding = mlp(x_, embed_size)\n",
    "    x_ = decoder(embedding, features)\n",
    "\n",
    "    classification = conv(embedding, 2, name=dataset.l1)\n",
    "    reconstruction = conv(x_, input_size, name=dataset.l2)\n",
    "    \n",
    "    outputs[dataset.l1] = classification\n",
    "    outputs[dataset.l2] = reconstruction\n",
    "    \n",
    "    return Model(x, outputs)\n",
    "\n",
    "# --- Custom Loss Function\n",
    "def WMSE(weight=1e-8):\n",
    "    def loss(y_true, y_pred):\n",
    "        return losses.MSE(y_true, y_pred) * weight\n",
    "    return loss\n",
    "    \n",
    "# --- Model Compile\n",
    "def compile_(model, dataset, lr=1e-4):\n",
    "    model.compile(\n",
    "        optimizer=optimizers.Adam(learning_rate=lr), \n",
    "        loss={dataset.l1: losses.SparseCategoricalCrossentropy(from_logits=True), \n",
    "              dataset.l2: WMSE()}, \n",
    "        metrics={dataset.l1: 'accuracy', \n",
    "                 dataset.l2: 'mean_absolute_error'},\n",
    "        experimental_run_tf_function=False)\n",
    "\n",
    "    return model\n",
    "\n",
    "# --- Model Trainer\n",
    "def train(model, dataset):\n",
    "    outputs = {}\n",
    "    outputs[dataset.l1] = dataset.ytr\n",
    "    outputs[dataset.l2] = dataset.xtr\n",
    "    class_weights = {dataset.l1: dataset.weights}\n",
    "    \n",
    "    validation = {}\n",
    "    validation[dataset.l1] = dataset.yte\n",
    "    validation[dataset.l2] = dataset.xte\n",
    "    \n",
    "    history = model.fit(\n",
    "        x=dataset.xtr,\n",
    "        y=outputs, \n",
    "        batch_size=4, \n",
    "        epochs=4, #80 \n",
    "        validation_data=(dataset.xte, validation), \n",
    "        validation_freq=4,\n",
    "        class_weight=class_weights,\n",
    "#         verbose=0,\n",
    "    )\n",
    "    return history"
   ]
  },
  {
   "cell_type": "code",
   "execution_count": 4,
   "metadata": {},
   "outputs": [],
   "source": [
    "def summarize(history, model, dataset):\n",
    "    print('=========TRAIN=========')\n",
    "    print('acc: {}'.format(history.history['classification_accuracy'][-1]))\n",
    "    print('reconstruction error: {}'.format(history.history['reconstruction_mean_absolute_error'][-1]))\n",
    "    evaluate(model, dataset.xtr, dataset.ytr)\n",
    "    print('=========VALID=========')\n",
    "    print('acc: {}'.format(history.history['val_classification_accuracy'][-1]))\n",
    "    print('reconstruction error: {}'.format(history.history['val_reconstruction_mean_absolute_error'][-1]))\n",
    "    evaluate(model, dataset.xte, dataset.yte)\n",
    "    \n",
    "def evaluate(model, data, labels):\n",
    "    # test on whole dataset\n",
    "    preds = model.predict(data)\n",
    "\n",
    "    if type(preds) == list: preds = preds[0];\n",
    "    preds = np.argmax(preds, axis=-1)\n",
    "    \n",
    "    print('baseline acc: {}'.format(class_one_acc(labels)))\n",
    "    print('model pred acc: {}'.format(acc(labels, preds)))\n",
    "    \n",
    "def default_dataset():\n",
    "    path = 'data/ctrl_vs_case.csv'\n",
    "    dataset = Dataset(path, train_size=0.7)\n",
    "    dataset.feature_selection(mode='s')\n",
    "    return dataset"
   ]
  },
  {
   "cell_type": "code",
   "execution_count": 5,
   "metadata": {},
   "outputs": [],
   "source": [
    "def run_pipeline(dataset, mode):\n",
    "    # --- Feature Selection\n",
    "    dataset.feature_selection(percentile=10, mode=mode)\n",
    "    print(dataset.features_.shape)\n",
    "    print(dataset.features.shape)\n",
    "    \n",
    "    # --- Prepare Model\n",
    "    tf.random.set_seed(0)\n",
    "    model = network(dataset)\n",
    "    model = compile_(model, dataset)\n",
    "    \n",
    "    # --- Train Model\n",
    "    history = train(model, dataset)\n",
    "    \n",
    "    # --- Summarize Results\n",
    "    print()\n",
    "    print('Training using {} feature selection'.format(mode))\n",
    "    summarize(history, model, dataset)\n",
    "    print()\n",
    "    \n",
    "    return model"
   ]
  },
  {
   "cell_type": "code",
   "execution_count": null,
   "metadata": {},
   "outputs": [],
   "source": [
    "# --- Train Models\n",
    "path = 'data/ctrl_vs_case.csv'\n",
    "# modes = ['no', 'chi', 'mutual_info']\n",
    "modes = ['no']\n",
    "\n",
    "# --- Prepare Data\n",
    "dataset = Dataset(path, train_size=0.7)\n",
    "\n",
    "for mode in modes:\n",
    "    model = run_pipeline(dataset, mode)"
   ]
  },
  {
   "cell_type": "code",
   "execution_count": null,
   "metadata": {},
   "outputs": [],
   "source": [
    "conf_scores = model.predict(dataset.xte)[0].squeeze()[:, 1]\n",
    "\n",
    "plot_auc(dataset.yte, conf_scores, mode='roc', lw=2)\n",
    "plot_auc(dataset.yte, conf_scores, mode='prc', lw=2)"
   ]
  },
  {
   "cell_type": "code",
   "execution_count": null,
   "metadata": {},
   "outputs": [],
   "source": [
    "conf_scores = model.predict(dataset.xtr)[0].squeeze()[:, 1]\n",
    "\n",
    "plot_auc(dataset.ytr, conf_scores, mode='roc', lw=2)\n",
    "plot_auc(dataset.ytr, conf_scores, mode='prc', lw=2)"
   ]
  },
  {
   "cell_type": "markdown",
   "metadata": {},
   "source": [
    "# Notes"
   ]
  },
  {
   "cell_type": "code",
   "execution_count": null,
   "metadata": {},
   "outputs": [],
   "source": [
    "# Nonlinear [1024, 512, 256] embed 128\n",
    "print(history.history['classification_accuracy'][-1])\n",
    "print(history.history['reconstruction_mean_absolute_error'][-1])\n",
    "\n",
    "print(history.history['val_classification_accuracy'][-1])\n",
    "print(history.history['val_reconstruction_mean_absolute_error'][-1])\n",
    "\n",
    "\n",
    "# (pred best class 0.8163265306122455)\n",
    "\n",
    "# no class_weights \n",
    "# 0.7920354\n",
    "# 489.65833\n",
    "# 0.8134715\n",
    "# 476.4897\n",
    "\n",
    "# class_weights\n",
    "# 0.53539824\n",
    "# 490.59412\n",
    "# 0.74093264\n",
    "# 476.9029\n",
    "\n",
    "# [256] class_weights\n",
    "# 0.5132743\n",
    "# 514.46576\n",
    "# 0.54404145\n",
    "# 513.9966\n",
    "\n",
    "# [128, 64] class_weights embed 32\n",
    "# 0.53097343\n",
    "# 518.819\n",
    "# 0.7098446\n",
    "# 515.60516\n",
    "\n",
    "# Deeper better than wider!"
   ]
  },
  {
   "cell_type": "code",
   "execution_count": null,
   "metadata": {},
   "outputs": [],
   "source": [
    "# Linear [1024, 512, 256] embed 128\n",
    "print(history.history['classification_accuracy'][-1])\n",
    "print(history.history['reconstruction_mean_absolute_error'][-1])\n",
    "\n",
    "print(history.history['val_classification_accuracy'][-1])\n",
    "print(history.history['val_reconstruction_mean_absolute_error'][-1])\n",
    "\n",
    "# no class_weights \n",
    "# 0.8097345\n",
    "# 506.56668\n",
    "# 0.7512953\n",
    "# 497.98688"
   ]
  },
  {
   "cell_type": "markdown",
   "metadata": {},
   "source": [
    "# Machine Learning Stuff..."
   ]
  },
  {
   "cell_type": "code",
   "execution_count": 5,
   "metadata": {},
   "outputs": [
    {
     "name": "stdout",
     "output_type": "stream",
     "text": [
      "Using s feature selection\n"
     ]
    }
   ],
   "source": [
    "dataset = default_dataset()\n",
    "Xtr, Xte, Ytr, Yte = [np.array(data.squeeze()) for data in [dataset.xtr, dataset.xte, dataset.ytr, dataset.yte]]"
   ]
  },
  {
   "cell_type": "code",
   "execution_count": null,
   "metadata": {},
   "outputs": [],
   "source": [
    "from sklearn.decomposition import PCA\n",
    "from sklearn.neighbors import KNeighborsClassifier\n",
    "from sklearn.ensemble import RandomForestClassifier\n",
    "\n",
    "\n",
    "def pca(x, n=100, verbose=False):\n",
    "    model = PCA(n).fit(x)\n",
    "    if verbose:\n",
    "        plt.plot(np.cumsum(model.explained_variance_ratio_))\n",
    "        plt.xlabel('n components')\n",
    "        plt.ylabel('cumulative variance');\n",
    "    return model\n",
    "\n",
    "\n",
    "def hard_predict(model, x):\n",
    "    return model.predict(x)\n",
    "\n",
    "\n",
    "def soft_predict(model, x):\n",
    "    return model.predict_proba(x)[:, 1]\n",
    "\n",
    "\n",
    "def plot_curves(model, x, y):\n",
    "    pred = hard_predict(model, x)\n",
    "    conf_scores = soft_predict(model, x)\n",
    "    plot_auc(y, conf_scores, mode='roc', lw=2)\n",
    "    plot_auc(y, conf_scores, mode='prc', lw=2)\n",
    "    \n",
    "    \n",
    "def results(model, xtr, ytr, xte, yte):\n",
    "    print('==================')\n",
    "    print('baseline train acc: {}'.format(class_one_acc(ytr)))\n",
    "    print('baseline test acc : {}'.format(class_one_acc(yte)))\n",
    "    print()\n",
    "    hptr = hard_predict(model, xtr)\n",
    "    hpte = hard_predict(model, xte)\n",
    "    print('model train acc: {}'.format(acc(ytr, hptr)))\n",
    "    print('model test acc: {}'.format(acc(yte, hpte)))\n",
    "    print()\n",
    "    sptr = soft_predict(model, xtr)\n",
    "    spte = soft_predict(model, xte)\n",
    "    print('model train auc: {}'.format(roc_auc(ytr, sptr)))\n",
    "    print('model test auc: {}'.format(roc_auc(yte, spte)))\n",
    "    print('==================')\n",
    "    \n",
    "    print('Test-set')\n",
    "    plot_curves(model, xte, yte)\n",
    "    \n",
    "\n",
    "def knn(xtr, ytr, xte, yte, n=3):\n",
    "    model = KNeighborsClassifier(n_neighbors=n)\n",
    "    model.fit(xtr, ytr)\n",
    "    \n",
    "    results(model, xtr, ytr, xte, yte)\n",
    "    \n",
    "    \n",
    "def rf(xtr, ytr, xte, yte, n=1):\n",
    "    model = RandomForestClassifier(n_estimators=500, max_depth=2, random_state=0, class_weight='balanced')\n",
    "    model.fit(xtr, ytr)\n",
    "    \n",
    "    results(model, xtr, ytr, xte, yte)"
   ]
  },
  {
   "cell_type": "code",
   "execution_count": null,
   "metadata": {},
   "outputs": [],
   "source": [
    "# pca\n",
    "pc = pca(Xtr)\n",
    "xtr = pc.transform(Xtr)\n",
    "xte = pc.transform(Xte)\n",
    "print(Xtr.shape, xtr.shape)\n",
    "\n",
    "print('- KNN')\n",
    "knn(Xtr, Ytr, Xte, Yte)\n",
    "print('- PCA')\n",
    "knn(xtr, Ytr, xte, Yte)\n",
    "print()\n",
    "print('- RF')\n",
    "rf(Xtr, Ytr, Xte, Yte)\n",
    "print('- PCA')\n",
    "rf(xtr, Ytr, xte, Yte)"
   ]
  },
  {
   "cell_type": "code",
   "execution_count": 11,
   "metadata": {},
   "outputs": [
    {
     "data": {
      "text/plain": [
       "0.9570437675996848"
      ]
     },
     "execution_count": 11,
     "metadata": {},
     "output_type": "execute_result"
    },
    {
     "data": {
      "image/png": "[encoded data removed]",
      "text/plain": [
       "<Figure size 432x288 with 1 Axes>"
      ]
     },
     "metadata": {
      "needs_background": "light"
     },
     "output_type": "display_data"
    }
   ],
   "source": [
    "# TODO: check representational power of PCA features\n",
    "\n",
    "dataset.pca(n_components=10, verbose=True)\n",
    "np.sum(dataset.pca_.explained_variance_ratio_)"
   ]
  },
  {
   "cell_type": "code",
   "execution_count": 12,
   "metadata": {},
   "outputs": [
    {
     "data": {
      "text/html": [
       "<div>\n",
       "<style scoped>\n",
       "    .dataframe tbody tr th:only-of-type {\n",
       "        vertical-align: middle;\n",
       "    }\n",
       "\n",
       "    .dataframe tbody tr th {\n",
       "        vertical-align: top;\n",
       "    }\n",
       "\n",
       "    .dataframe thead th {\n",
       "        text-align: right;\n",
       "    }\n",
       "</style>\n",
       "<table border=\"1\" class=\"dataframe\">\n",
       "  <thead>\n",
       "    <tr style=\"text-align: right;\">\n",
       "      <th></th>\n",
       "      <th>pc</th>\n",
       "      <th>feature</th>\n",
       "    </tr>\n",
       "  </thead>\n",
       "  <tbody>\n",
       "    <tr>\n",
       "      <th>0</th>\n",
       "      <td>pc-1</td>\n",
       "      <td>X7SK.4</td>\n",
       "    </tr>\n",
       "    <tr>\n",
       "      <th>1</th>\n",
       "      <td>pc-2</td>\n",
       "      <td>MT.RNR2</td>\n",
       "    </tr>\n",
       "    <tr>\n",
       "      <th>2</th>\n",
       "      <td>pc-3</td>\n",
       "      <td>MALAT1</td>\n",
       "    </tr>\n",
       "    <tr>\n",
       "      <th>3</th>\n",
       "      <td>pc-4</td>\n",
       "      <td>RN7SL2</td>\n",
       "    </tr>\n",
       "    <tr>\n",
       "      <th>4</th>\n",
       "      <td>pc-5</td>\n",
       "      <td>NEFL</td>\n",
       "    </tr>\n",
       "    <tr>\n",
       "      <th>5</th>\n",
       "      <td>pc-6</td>\n",
       "      <td>COL3A1</td>\n",
       "    </tr>\n",
       "    <tr>\n",
       "      <th>6</th>\n",
       "      <td>pc-7</td>\n",
       "      <td>MAP1B</td>\n",
       "    </tr>\n",
       "    <tr>\n",
       "      <th>7</th>\n",
       "      <td>pc-8</td>\n",
       "      <td>COL3A1</td>\n",
       "    </tr>\n",
       "    <tr>\n",
       "      <th>8</th>\n",
       "      <td>pc-9</td>\n",
       "      <td>EEF2</td>\n",
       "    </tr>\n",
       "    <tr>\n",
       "      <th>9</th>\n",
       "      <td>pc-10</td>\n",
       "      <td>SNORD3C</td>\n",
       "    </tr>\n",
       "  </tbody>\n",
       "</table>\n",
       "</div>"
      ],
      "text/plain": [
       "      pc  feature\n",
       "0   pc-1   X7SK.4\n",
       "1   pc-2  MT.RNR2\n",
       "2   pc-3   MALAT1\n",
       "3   pc-4   RN7SL2\n",
       "4   pc-5     NEFL\n",
       "5   pc-6   COL3A1\n",
       "6   pc-7    MAP1B\n",
       "7   pc-8   COL3A1\n",
       "8   pc-9     EEF2\n",
       "9  pc-10  SNORD3C"
      ]
     },
     "execution_count": 12,
     "metadata": {},
     "output_type": "execute_result"
    }
   ],
   "source": [
    "pca_importance(dataset)"
   ]
  }
 ],
 "metadata": {
  "kernelspec": {
   "display_name": "Python 3",
   "language": "python",
   "name": "python3"
  },
  "language_info": {
   "codemirror_mode": {
    "name": "ipython",
    "version": 3
   },
   "file_extension": ".py",
   "mimetype": "text/x-python",
   "name": "python",
   "nbconvert_exporter": "python",
   "pygments_lexer": "ipython3",
   "version": "3.6.12"
  }
 },
 "nbformat": 4,
 "nbformat_minor": 4
}
