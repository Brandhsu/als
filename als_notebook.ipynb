{
 "cells": [
  {
   "cell_type": "code",
   "execution_count": 1,
   "metadata": {},
   "outputs": [],
   "source": [
    "# --- Import Libraries\n",
    "import copy\n",
    "import numpy as np\n",
    "import tensorflow as tf\n",
    "from tensorflow.keras import Model, Sequential, layers, losses, optimizers\n",
    "from sklearn import random_projection\n",
    "from sklearn.metrics import accuracy_score\n",
    "\n",
    "from data import Dataset"
   ]
  },
  {
   "cell_type": "markdown",
   "metadata": {},
   "source": [
    "**Notes:** \n",
    "* https://link.springer.com/article/10.1007/s10044-018-0697-0\n",
    "* https://keras.io/examples/vision/grad_cam/"
   ]
  },
  {
   "cell_type": "code",
   "execution_count": 2,
   "metadata": {},
   "outputs": [
    {
     "name": "stdout",
     "output_type": "stream",
     "text": [
      "[ 2021-04-26 12:46:15 ] CUDA_VISIBLE_DEVICES automatically set to: 1           \n"
     ]
    }
   ],
   "source": [
    "#--- Autoselect GPU\n",
    "from jarvis.utils.general import gpus\n",
    "gpus.autoselect()"
   ]
  },
  {
   "cell_type": "code",
   "execution_count": 3,
   "metadata": {},
   "outputs": [],
   "source": [
    "# --- Prepare Data\n",
    "path = 'data/ctrl_vs_case.csv'\n",
    "dataset = Dataset(path)"
   ]
  },
  {
   "cell_type": "code",
   "execution_count": 4,
   "metadata": {},
   "outputs": [],
   "source": [
    "# --- Model Blocks\n",
    "conv = lambda x, features, dr=1, name=None : layers.Conv1D(filters=features, kernel_size=1, strides=1, dilation_rate=dr, padding='same', name=name)(x)\n",
    "elu  = lambda x: layers.ELU()(x)\n",
    "norm = lambda x: layers.BatchNormalization()(x)\n",
    "mlp  = lambda x, features, dr=1: elu(norm((conv(x, features, dr))))\n",
    "\n",
    "# --- Model Architecture\n",
    "def encoder(x, features):\n",
    "    for f in features:\n",
    "        x = mlp(x, f)\n",
    "    return x\n",
    "\n",
    "def decoder(x, features):\n",
    "    features = features[::-1]\n",
    "    for f in features:\n",
    "        x = mlp(x, f)\n",
    "    return x\n",
    "\n",
    "def network(dataset):\n",
    "    tf.random.set_seed(0)\n",
    "    x = dataset.Input\n",
    "    input_size = x.shape[-1]\n",
    "    features = [128, 64]\n",
    "    embed_size = 32\n",
    "    outputs = {}\n",
    "    \n",
    "    x_ = encoder(x, features)\n",
    "    embedding = mlp(x_, embed_size)\n",
    "    x_ = decoder(embedding, features)\n",
    "\n",
    "    classification = conv(embedding, 2, name=dataset.l1)\n",
    "    reconstruction = conv(x_, input_size, name=dataset.l2)\n",
    "    \n",
    "    outputs[dataset.l1] = classification\n",
    "    outputs[dataset.l2] = reconstruction\n",
    "    \n",
    "    return Model(x, outputs)\n",
    "    \n",
    "# --- Model Compile\n",
    "def compile_(model, dataset, lr=1e-4):\n",
    "    model.compile(\n",
    "        optimizer=optimizers.Adam(learning_rate=lr), \n",
    "        loss={dataset.l1: losses.SparseCategoricalCrossentropy(from_logits=True), \n",
    "              dataset.l2: losses.MSE}, \n",
    "        metrics={dataset.l1: 'accuracy', \n",
    "                 dataset.l2: 'mean_absolute_error'},\n",
    "        experimental_run_tf_function=False)\n",
    "\n",
    "    return model\n",
    "\n",
    "# --- Model Trainer\n",
    "def train(model, dataset):\n",
    "    outputs = {}\n",
    "    outputs[dataset.l1] = dataset.train_labels\n",
    "    outputs[dataset.l2] = dataset.train_data\n",
    "    class_weights = {dataset.l1: dataset.weights}\n",
    "    \n",
    "    validation = {}\n",
    "    validation[dataset.l1] = dataset.test_labels\n",
    "    validation[dataset.l2] = dataset.test_data\n",
    "    \n",
    "    history = model.fit(\n",
    "        x=dataset.train_data,\n",
    "        y=outputs, \n",
    "        batch_size=4, \n",
    "        epochs=80, \n",
    "        validation_data=(dataset.test_data, validation), \n",
    "        validation_freq=10,\n",
    "        class_weight=class_weights,\n",
    "    )\n",
    "    return history\n",
    "\n",
    "\n",
    "# --- Prepare Model\n",
    "# del model\n",
    "model = network(dataset)\n",
    "model = compile_(model, dataset)"
   ]
  },
  {
   "cell_type": "code",
   "execution_count": 5,
   "metadata": {},
   "outputs": [
    {
     "name": "stdout",
     "output_type": "stream",
     "text": [
      "Train on 114 samples, validate on 49 samples\n",
      "Epoch 1/80\n",
      "114/114 [==============================] - 3s 30ms/sample - loss: 20885857.1228 - classification_loss: 0.9130 - reconstruction_loss: 20876560.0000 - classification_accuracy: 0.5000 - reconstruction_mean_absolute_error: 524.9020\n",
      "Epoch 2/80\n",
      "114/114 [==============================] - 1s 7ms/sample - loss: 20885792.2807 - classification_loss: 0.6581 - reconstruction_loss: 20877270.0000 - classification_accuracy: 0.5310 - reconstruction_mean_absolute_error: 524.8757\n",
      "Epoch 3/80\n",
      "114/114 [==============================] - 1s 7ms/sample - loss: 20885724.7018 - classification_loss: 0.7046 - reconstruction_loss: 21056048.0000 - classification_accuracy: 0.5619 - reconstruction_mean_absolute_error: 524.8492\n",
      "Epoch 4/80\n",
      "114/114 [==============================] - 1s 7ms/sample - loss: 20885648.4561 - classification_loss: 0.7913 - reconstruction_loss: 20806620.0000 - classification_accuracy: 0.5310 - reconstruction_mean_absolute_error: 524.8221\n",
      "Epoch 5/80\n",
      "114/114 [==============================] - 1s 7ms/sample - loss: 20885570.4211 - classification_loss: 0.7918 - reconstruction_loss: 20884472.0000 - classification_accuracy: 0.5177 - reconstruction_mean_absolute_error: 524.7940\n",
      "Epoch 6/80\n",
      "114/114 [==============================] - 1s 7ms/sample - loss: 20885485.2982 - classification_loss: 0.8539 - reconstruction_loss: 20932474.0000 - classification_accuracy: 0.5354 - reconstruction_mean_absolute_error: 524.7643\n",
      "Epoch 7/80\n",
      "114/114 [==============================] - 1s 7ms/sample - loss: 20885391.4737 - classification_loss: 0.7691 - reconstruction_loss: 20856344.0000 - classification_accuracy: 0.5000 - reconstruction_mean_absolute_error: 524.7340\n",
      "Epoch 8/80\n",
      "114/114 [==============================] - 1s 7ms/sample - loss: 20885291.7544 - classification_loss: 0.7912 - reconstruction_loss: 21076460.0000 - classification_accuracy: 0.5487 - reconstruction_mean_absolute_error: 524.7008\n",
      "Epoch 9/80\n",
      "114/114 [==============================] - 1s 7ms/sample - loss: 20885191.2281 - classification_loss: 0.6210 - reconstruction_loss: 20820914.0000 - classification_accuracy: 0.5088 - reconstruction_mean_absolute_error: 524.6678\n",
      "Epoch 10/80\n",
      "114/114 [==============================] - 2s 15ms/sample - loss: 20885075.9649 - classification_loss: 0.7027 - reconstruction_loss: 20864070.0000 - classification_accuracy: 0.5133 - reconstruction_mean_absolute_error: 524.6318 - val_loss: 19666224.6939 - val_classification_loss: 1.2258 - val_reconstruction_loss: 19680306.0000 - val_classification_accuracy: 0.2487 - val_reconstruction_mean_absolute_error: 521.8159\n",
      "Epoch 11/80\n",
      "114/114 [==============================] - 1s 7ms/sample - loss: 20884956.9474 - classification_loss: 0.7089 - reconstruction_loss: 21043798.0000 - classification_accuracy: 0.5487 - reconstruction_mean_absolute_error: 524.5952\n",
      "Epoch 12/80\n",
      "114/114 [==============================] - 1s 7ms/sample - loss: 20884833.5614 - classification_loss: 0.7451 - reconstruction_loss: 20788998.0000 - classification_accuracy: 0.4912 - reconstruction_mean_absolute_error: 524.5558\n",
      "Epoch 13/80\n",
      "114/114 [==============================] - 1s 7ms/sample - loss: 20884705.8246 - classification_loss: 0.8126 - reconstruction_loss: 20781272.0000 - classification_accuracy: 0.5398 - reconstruction_mean_absolute_error: 524.5177\n",
      "Epoch 14/80\n",
      "114/114 [==============================] - 1s 7ms/sample - loss: 20884567.3333 - classification_loss: 0.7644 - reconstruction_loss: 21222476.0000 - classification_accuracy: 0.5000 - reconstruction_mean_absolute_error: 524.4745\n",
      "Epoch 15/80\n",
      "114/114 [==============================] - 1s 7ms/sample - loss: 20884417.1228 - classification_loss: 0.9621 - reconstruction_loss: 20846598.0000 - classification_accuracy: 0.5265 - reconstruction_mean_absolute_error: 524.4326\n",
      "Epoch 16/80\n",
      "114/114 [==============================] - 1s 7ms/sample - loss: 20884261.3333 - classification_loss: 0.8051 - reconstruction_loss: 20884814.0000 - classification_accuracy: 0.5265 - reconstruction_mean_absolute_error: 524.3869\n",
      "Epoch 17/80\n",
      "114/114 [==============================] - 1s 7ms/sample - loss: 20884116.2982 - classification_loss: 0.8615 - reconstruction_loss: 20800090.0000 - classification_accuracy: 0.5221 - reconstruction_mean_absolute_error: 524.3420\n",
      "Epoch 18/80\n",
      "114/114 [==============================] - 1s 7ms/sample - loss: 20883957.2632 - classification_loss: 0.8163 - reconstruction_loss: 20912294.0000 - classification_accuracy: 0.4823 - reconstruction_mean_absolute_error: 524.3013\n",
      "Epoch 19/80\n",
      "114/114 [==============================] - 1s 7ms/sample - loss: 20883788.9825 - classification_loss: 0.7545 - reconstruction_loss: 20909990.0000 - classification_accuracy: 0.4912 - reconstruction_mean_absolute_error: 524.2537\n",
      "Epoch 20/80\n",
      "114/114 [==============================] - 1s 9ms/sample - loss: 20883606.3333 - classification_loss: 0.7709 - reconstruction_loss: 20791430.0000 - classification_accuracy: 0.5088 - reconstruction_mean_absolute_error: 524.1973 - val_loss: 19662699.9592 - val_classification_loss: 0.8493 - val_reconstruction_loss: 19750232.0000 - val_classification_accuracy: 0.3627 - val_reconstruction_mean_absolute_error: 520.7329\n",
      "Epoch 21/80\n",
      "114/114 [==============================] - 1s 7ms/sample - loss: 20883398.0702 - classification_loss: 0.6999 - reconstruction_loss: 20828740.0000 - classification_accuracy: 0.5133 - reconstruction_mean_absolute_error: 524.1414\n",
      "Epoch 22/80\n",
      "114/114 [==============================] - 1s 7ms/sample - loss: 20883241.5088 - classification_loss: 0.7623 - reconstruction_loss: 21215258.0000 - classification_accuracy: 0.5487 - reconstruction_mean_absolute_error: 524.0958\n",
      "Epoch 23/80\n",
      "114/114 [==============================] - 1s 7ms/sample - loss: 20883019.1228 - classification_loss: 0.7843 - reconstruction_loss: 20948614.0000 - classification_accuracy: 0.5752 - reconstruction_mean_absolute_error: 524.0363\n",
      "Epoch 24/80\n",
      "114/114 [==============================] - 1s 8ms/sample - loss: 20882818.9825 - classification_loss: 0.7960 - reconstruction_loss: 20993536.0000 - classification_accuracy: 0.5221 - reconstruction_mean_absolute_error: 523.9730\n",
      "Epoch 25/80\n",
      "114/114 [==============================] - 1s 7ms/sample - loss: 20882628.8070 - classification_loss: 0.7702 - reconstruction_loss: 20915622.0000 - classification_accuracy: 0.5265 - reconstruction_mean_absolute_error: 523.9222\n",
      "Epoch 26/80\n",
      "114/114 [==============================] - 1s 7ms/sample - loss: 20882417.8246 - classification_loss: 0.8263 - reconstruction_loss: 21002202.0000 - classification_accuracy: 0.5575 - reconstruction_mean_absolute_error: 523.8592\n",
      "Epoch 27/80\n",
      "114/114 [==============================] - 1s 7ms/sample - loss: 20882185.3333 - classification_loss: 0.7005 - reconstruction_loss: 20831524.0000 - classification_accuracy: 0.5177 - reconstruction_mean_absolute_error: 523.7805\n",
      "Epoch 28/80\n",
      "114/114 [==============================] - 1s 7ms/sample - loss: 20882043.1930 - classification_loss: 0.7609 - reconstruction_loss: 20843716.0000 - classification_accuracy: 0.5177 - reconstruction_mean_absolute_error: 523.7594\n",
      "Epoch 29/80\n",
      "114/114 [==============================] - 1s 7ms/sample - loss: 20881776.9123 - classification_loss: 0.7135 - reconstruction_loss: 20884580.0000 - classification_accuracy: 0.5398 - reconstruction_mean_absolute_error: 523.6723\n",
      "Epoch 30/80\n",
      "114/114 [==============================] - 1s 9ms/sample - loss: 20881575.6140 - classification_loss: 0.7977 - reconstruction_loss: 20810982.0000 - classification_accuracy: 0.5177 - reconstruction_mean_absolute_error: 523.6136 - val_loss: 19661045.1837 - val_classification_loss: 1.2000 - val_reconstruction_loss: 19818952.0000 - val_classification_accuracy: 0.2487 - val_reconstruction_mean_absolute_error: 520.2849\n",
      "Epoch 31/80\n",
      "114/114 [==============================] - 1s 8ms/sample - loss: 20881235.4737 - classification_loss: 0.8087 - reconstruction_loss: 20799872.0000 - classification_accuracy: 0.5221 - reconstruction_mean_absolute_error: 523.5210\n",
      "Epoch 32/80\n",
      "114/114 [==============================] - 1s 7ms/sample - loss: 20881014.2456 - classification_loss: 0.7511 - reconstruction_loss: 20851582.0000 - classification_accuracy: 0.5442 - reconstruction_mean_absolute_error: 523.4591\n",
      "Epoch 33/80\n",
      "114/114 [==============================] - 1s 7ms/sample - loss: 20880792.3860 - classification_loss: 0.7153 - reconstruction_loss: 20827656.0000 - classification_accuracy: 0.5265 - reconstruction_mean_absolute_error: 523.3967\n",
      "Epoch 34/80\n",
      "114/114 [==============================] - 1s 7ms/sample - loss: 20880596.8421 - classification_loss: 0.6696 - reconstruction_loss: 20854248.0000 - classification_accuracy: 0.4956 - reconstruction_mean_absolute_error: 523.3469\n",
      "Epoch 35/80\n",
      "114/114 [==============================] - 1s 7ms/sample - loss: 20880325.6667 - classification_loss: 0.7215 - reconstruction_loss: 20809340.0000 - classification_accuracy: 0.4956 - reconstruction_mean_absolute_error: 523.2679\n",
      "Epoch 36/80\n",
      "114/114 [==============================] - 1s 7ms/sample - loss: 20880045.1228 - classification_loss: 0.7314 - reconstruction_loss: 20821364.0000 - classification_accuracy: 0.4956 - reconstruction_mean_absolute_error: 523.1932\n",
      "Epoch 37/80\n",
      "114/114 [==============================] - 1s 7ms/sample - loss: 20879741.0526 - classification_loss: 0.6687 - reconstruction_loss: 20844898.0000 - classification_accuracy: 0.4513 - reconstruction_mean_absolute_error: 523.0963\n",
      "Epoch 38/80\n",
      "114/114 [==============================] - 1s 7ms/sample - loss: 20879507.3333 - classification_loss: 0.6676 - reconstruction_loss: 20752780.0000 - classification_accuracy: 0.5354 - reconstruction_mean_absolute_error: 523.0300\n",
      "Epoch 39/80\n",
      "114/114 [==============================] - 1s 7ms/sample - loss: 20879164.3860 - classification_loss: 0.7108 - reconstruction_loss: 20813774.0000 - classification_accuracy: 0.4336 - reconstruction_mean_absolute_error: 522.9348\n",
      "Epoch 40/80\n",
      "114/114 [==============================] - 1s 9ms/sample - loss: 20878914.9123 - classification_loss: 0.7435 - reconstruction_loss: 20976164.0000 - classification_accuracy: 0.5133 - reconstruction_mean_absolute_error: 522.8571 - val_loss: 19657689.6735 - val_classification_loss: 0.7771 - val_reconstruction_loss: 19545682.0000 - val_classification_accuracy: 0.4663 - val_reconstruction_mean_absolute_error: 519.3650\n",
      "Epoch 41/80\n",
      "114/114 [==============================] - 1s 7ms/sample - loss: 20878557.9298 - classification_loss: 0.6711 - reconstruction_loss: 21121682.0000 - classification_accuracy: 0.4779 - reconstruction_mean_absolute_error: 522.7742\n",
      "Epoch 42/80\n",
      "114/114 [==============================] - 1s 7ms/sample - loss: 20878292.6140 - classification_loss: 0.6984 - reconstruction_loss: 20801870.0000 - classification_accuracy: 0.4956 - reconstruction_mean_absolute_error: 522.6867\n",
      "Epoch 43/80\n",
      "114/114 [==============================] - 1s 7ms/sample - loss: 20877974.8421 - classification_loss: 0.6647 - reconstruction_loss: 20827276.0000 - classification_accuracy: 0.4690 - reconstruction_mean_absolute_error: 522.6125\n",
      "Epoch 44/80\n",
      "114/114 [==============================] - 1s 7ms/sample - loss: 20877662.8070 - classification_loss: 0.7649 - reconstruction_loss: 20976222.0000 - classification_accuracy: 0.4690 - reconstruction_mean_absolute_error: 522.5295\n",
      "Epoch 45/80\n",
      "114/114 [==============================] - 1s 7ms/sample - loss: 20877387.5965 - classification_loss: 0.6976 - reconstruction_loss: 20771974.0000 - classification_accuracy: 0.5177 - reconstruction_mean_absolute_error: 522.4450\n",
      "Epoch 46/80\n",
      "114/114 [==============================] - 1s 7ms/sample - loss: 20876941.0526 - classification_loss: 0.7223 - reconstruction_loss: 20833024.0000 - classification_accuracy: 0.5000 - reconstruction_mean_absolute_error: 522.3339\n",
      "Epoch 47/80\n",
      "114/114 [==============================] - 1s 7ms/sample - loss: 20876887.0526 - classification_loss: 0.6458 - reconstruction_loss: 20837290.0000 - classification_accuracy: 0.4956 - reconstruction_mean_absolute_error: 522.3154\n",
      "Epoch 48/80\n",
      "114/114 [==============================] - 1s 7ms/sample - loss: 20876377.3158 - classification_loss: 0.7245 - reconstruction_loss: 20767964.0000 - classification_accuracy: 0.4336 - reconstruction_mean_absolute_error: 522.1482\n",
      "Epoch 49/80\n",
      "114/114 [==============================] - 1s 7ms/sample - loss: 20876041.2632 - classification_loss: 0.6812 - reconstruction_loss: 20830702.0000 - classification_accuracy: 0.5088 - reconstruction_mean_absolute_error: 522.0701\n",
      "Epoch 50/80\n",
      "114/114 [==============================] - 1s 9ms/sample - loss: 20875774.5965 - classification_loss: 0.7906 - reconstruction_loss: 20964224.0000 - classification_accuracy: 0.4779 - reconstruction_mean_absolute_error: 521.9786 - val_loss: 19658763.7959 - val_classification_loss: 1.3031 - val_reconstruction_loss: 19362392.0000 - val_classification_accuracy: 0.1865 - val_reconstruction_mean_absolute_error: 519.6750\n",
      "Epoch 51/80\n",
      "114/114 [==============================] - 1s 8ms/sample - loss: 20875264.7018 - classification_loss: 0.7559 - reconstruction_loss: 20804968.0000 - classification_accuracy: 0.4602 - reconstruction_mean_absolute_error: 521.8378\n",
      "Epoch 52/80\n",
      "114/114 [==============================] - 1s 7ms/sample - loss: 20874998.3860 - classification_loss: 0.6435 - reconstruction_loss: 20976280.0000 - classification_accuracy: 0.4912 - reconstruction_mean_absolute_error: 521.7780\n",
      "Epoch 53/80\n",
      "114/114 [==============================] - 1s 7ms/sample - loss: 20874643.6491 - classification_loss: 0.7255 - reconstruction_loss: 20819826.0000 - classification_accuracy: 0.4602 - reconstruction_mean_absolute_error: 521.6680\n",
      "Epoch 54/80\n",
      "114/114 [==============================] - 1s 7ms/sample - loss: 20874135.2982 - classification_loss: 0.6799 - reconstruction_loss: 20876488.0000 - classification_accuracy: 0.4956 - reconstruction_mean_absolute_error: 521.5364\n",
      "Epoch 55/80\n",
      "114/114 [==============================] - 1s 7ms/sample - loss: 20873929.1053 - classification_loss: 0.7011 - reconstruction_loss: 20771448.0000 - classification_accuracy: 0.4912 - reconstruction_mean_absolute_error: 521.4800\n",
      "Epoch 56/80\n",
      "114/114 [==============================] - 1s 7ms/sample - loss: 20873409.4737 - classification_loss: 0.6620 - reconstruction_loss: 21069388.0000 - classification_accuracy: 0.4823 - reconstruction_mean_absolute_error: 521.3350\n",
      "Epoch 57/80\n",
      "114/114 [==============================] - 1s 7ms/sample - loss: 20873119.2456 - classification_loss: 0.7606 - reconstruction_loss: 20777076.0000 - classification_accuracy: 0.4912 - reconstruction_mean_absolute_error: 521.2372\n",
      "Epoch 58/80\n",
      "114/114 [==============================] - 1s 7ms/sample - loss: 20872874.4561 - classification_loss: 0.7506 - reconstruction_loss: 20806942.0000 - classification_accuracy: 0.4602 - reconstruction_mean_absolute_error: 521.1917\n",
      "Epoch 59/80\n",
      "114/114 [==============================] - 1s 7ms/sample - loss: 20872514.5263 - classification_loss: 0.7431 - reconstruction_loss: 21170674.0000 - classification_accuracy: 0.4602 - reconstruction_mean_absolute_error: 521.0947\n",
      "Epoch 60/80\n",
      "114/114 [==============================] - 1s 9ms/sample - loss: 20872031.3333 - classification_loss: 0.7311 - reconstruction_loss: 20793854.0000 - classification_accuracy: 0.4779 - reconstruction_mean_absolute_error: 520.9575 - val_loss: 19661479.5102 - val_classification_loss: 0.7153 - val_reconstruction_loss: 19365182.0000 - val_classification_accuracy: 0.5544 - val_reconstruction_mean_absolute_error: 520.4745\n",
      "Epoch 61/80\n",
      "114/114 [==============================] - 1s 7ms/sample - loss: 20871977.0175 - classification_loss: 0.6961 - reconstruction_loss: 20781562.0000 - classification_accuracy: 0.4646 - reconstruction_mean_absolute_error: 520.9125\n",
      "Epoch 62/80\n",
      "114/114 [==============================] - 1s 7ms/sample - loss: 20871261.0526 - classification_loss: 0.6772 - reconstruction_loss: 20859494.0000 - classification_accuracy: 0.4646 - reconstruction_mean_absolute_error: 520.7187\n",
      "Epoch 63/80\n",
      "114/114 [==============================] - 1s 7ms/sample - loss: 20871035.2982 - classification_loss: 0.7261 - reconstruction_loss: 20821262.0000 - classification_accuracy: 0.5221 - reconstruction_mean_absolute_error: 520.6522\n",
      "Epoch 64/80\n",
      "114/114 [==============================] - 1s 7ms/sample - loss: 20870622.2807 - classification_loss: 0.8254 - reconstruction_loss: 20758870.0000 - classification_accuracy: 0.4690 - reconstruction_mean_absolute_error: 520.5613\n",
      "Epoch 65/80\n",
      "114/114 [==============================] - 1s 7ms/sample - loss: 20870447.3333 - classification_loss: 0.7464 - reconstruction_loss: 20841416.0000 - classification_accuracy: 0.4469 - reconstruction_mean_absolute_error: 520.5126\n",
      "Epoch 66/80\n",
      "114/114 [==============================] - 1s 7ms/sample - loss: 20869664.8421 - classification_loss: 0.7058 - reconstruction_loss: 20831046.0000 - classification_accuracy: 0.4735 - reconstruction_mean_absolute_error: 520.2873\n",
      "Epoch 67/80\n",
      "114/114 [==============================] - 1s 7ms/sample - loss: 20869371.7193 - classification_loss: 0.7142 - reconstruction_loss: 20845286.0000 - classification_accuracy: 0.4867 - reconstruction_mean_absolute_error: 520.2265\n",
      "Epoch 68/80\n",
      "114/114 [==============================] - 1s 7ms/sample - loss: 20869025.5789 - classification_loss: 0.7161 - reconstruction_loss: 20932180.0000 - classification_accuracy: 0.4690 - reconstruction_mean_absolute_error: 520.1430\n",
      "Epoch 69/80\n",
      "114/114 [==============================] - 1s 7ms/sample - loss: 20868357.5789 - classification_loss: 0.7125 - reconstruction_loss: 20879810.0000 - classification_accuracy: 0.4779 - reconstruction_mean_absolute_error: 519.9240\n",
      "Epoch 70/80\n",
      "114/114 [==============================] - 1s 9ms/sample - loss: 20868075.6491 - classification_loss: 0.7371 - reconstruction_loss: 20869568.0000 - classification_accuracy: 0.4469 - reconstruction_mean_absolute_error: 519.8964 - val_loss: 19653636.3878 - val_classification_loss: 0.9613 - val_reconstruction_loss: 19482404.0000 - val_classification_accuracy: 0.3834 - val_reconstruction_mean_absolute_error: 518.2983\n",
      "Epoch 71/80\n",
      "114/114 [==============================] - 1s 8ms/sample - loss: 20867873.0877 - classification_loss: 0.6536 - reconstruction_loss: 21179206.0000 - classification_accuracy: 0.4779 - reconstruction_mean_absolute_error: 519.8551\n",
      "Epoch 72/80\n",
      "114/114 [==============================] - 1s 7ms/sample - loss: 20867360.6316 - classification_loss: 0.6857 - reconstruction_loss: 20823380.0000 - classification_accuracy: 0.4779 - reconstruction_mean_absolute_error: 519.7142\n",
      "Epoch 73/80\n",
      "114/114 [==============================] - 1s 7ms/sample - loss: 20866772.2456 - classification_loss: 0.6791 - reconstruction_loss: 20825602.0000 - classification_accuracy: 0.4867 - reconstruction_mean_absolute_error: 519.5178\n",
      "Epoch 74/80\n",
      "114/114 [==============================] - 1s 7ms/sample - loss: 20866581.8772 - classification_loss: 0.7197 - reconstruction_loss: 20734722.0000 - classification_accuracy: 0.4513 - reconstruction_mean_absolute_error: 519.4811\n",
      "Epoch 75/80\n",
      "114/114 [==============================] - 1s 7ms/sample - loss: 20865920.0000 - classification_loss: 0.7894 - reconstruction_loss: 20795336.0000 - classification_accuracy: 0.4823 - reconstruction_mean_absolute_error: 519.2935\n",
      "Epoch 76/80\n",
      "114/114 [==============================] - 1s 7ms/sample - loss: 20865683.4737 - classification_loss: 0.7921 - reconstruction_loss: 20786438.0000 - classification_accuracy: 0.4735 - reconstruction_mean_absolute_error: 519.2372\n",
      "Epoch 77/80\n",
      "114/114 [==============================] - 1s 7ms/sample - loss: 20865214.8772 - classification_loss: 0.6678 - reconstruction_loss: 20880986.0000 - classification_accuracy: 0.5088 - reconstruction_mean_absolute_error: 519.0916\n",
      "Epoch 78/80\n",
      "114/114 [==============================] - 1s 7ms/sample - loss: 20864826.5614 - classification_loss: 0.7078 - reconstruction_loss: 20782188.0000 - classification_accuracy: 0.4469 - reconstruction_mean_absolute_error: 519.0505\n",
      "Epoch 79/80\n",
      "114/114 [==============================] - 1s 7ms/sample - loss: 20864054.3860 - classification_loss: 0.7229 - reconstruction_loss: 20924954.0000 - classification_accuracy: 0.4513 - reconstruction_mean_absolute_error: 518.7960\n",
      "Epoch 80/80\n",
      "114/114 [==============================] - 1s 9ms/sample - loss: 20863746.3860 - classification_loss: 0.6950 - reconstruction_loss: 20802686.0000 - classification_accuracy: 0.5044 - reconstruction_mean_absolute_error: 518.7114 - val_loss: 19643021.2041 - val_classification_loss: 0.6476 - val_reconstruction_loss: 19318166.0000 - val_classification_accuracy: 0.6891 - val_reconstruction_mean_absolute_error: 515.4104\n"
     ]
    }
   ],
   "source": [
    "# --- Train Model\n",
    "history = train(model, dataset)\n"
   ]
  },
  {
   "cell_type": "code",
   "execution_count": 6,
   "metadata": {},
   "outputs": [
    {
     "name": "stdout",
     "output_type": "stream",
     "text": [
      "0.50442475\n",
      "518.71136\n",
      "0.68911916\n",
      "515.4104\n"
     ]
    }
   ],
   "source": [
    "# Nonlinear [1024, 512, 256] embed 128\n",
    "print(history.history['classification_accuracy'][-1])\n",
    "print(history.history['reconstruction_mean_absolute_error'][-1])\n",
    "\n",
    "print(history.history['val_classification_accuracy'][-1])\n",
    "print(history.history['val_reconstruction_mean_absolute_error'][-1])\n",
    "\n",
    "\n",
    "# (pred best class 0.8163265306122455)\n",
    "\n",
    "# no class_weights \n",
    "# 0.7920354\n",
    "# 489.65833\n",
    "# 0.8134715\n",
    "# 476.4897\n",
    "\n",
    "# class_weights\n",
    "# 0.53539824\n",
    "# 490.59412\n",
    "# 0.74093264\n",
    "# 476.9029\n",
    "\n",
    "# [256] class_weights\n",
    "# 0.5132743\n",
    "# 514.46576\n",
    "# 0.54404145\n",
    "# 513.9966\n",
    "\n",
    "# [128, 64] class_weights embed 32\n",
    "# 0.53097343\n",
    "# 518.819\n",
    "# 0.7098446\n",
    "# 515.60516\n",
    "\n",
    "# Deeper better than wider!"
   ]
  },
  {
   "cell_type": "code",
   "execution_count": 17,
   "metadata": {},
   "outputs": [
    {
     "name": "stdout",
     "output_type": "stream",
     "text": [
      "0.5176991\n",
      "506.6457\n",
      "0.3834197\n",
      "500.44925\n"
     ]
    }
   ],
   "source": [
    "# Linear [1024, 512, 256] embed 128\n",
    "print(history.history['classification_accuracy'][-1])\n",
    "print(history.history['reconstruction_mean_absolute_error'][-1])\n",
    "\n",
    "print(history.history['val_classification_accuracy'][-1])\n",
    "print(history.history['val_reconstruction_mean_absolute_error'][-1])\n",
    "\n",
    "# 0.8097345\n",
    "# 506.56668\n",
    "# 0.7512953\n",
    "# 497.98688"
   ]
  },
  {
   "cell_type": "code",
   "execution_count": 7,
   "metadata": {},
   "outputs": [
    {
     "name": "stdout",
     "output_type": "stream",
     "text": [
      "Model: \"model\"\n",
      "__________________________________________________________________________________________________\n",
      "Layer (type)                    Output Shape         Param #     Connected to                     \n",
      "==================================================================================================\n",
      "input_1 (InputLayer)            [(None, 1, 53859)]   0                                            \n",
      "__________________________________________________________________________________________________\n",
      "conv1d (Conv1D)                 (None, 1, 128)       6894080     input_1[0][0]                    \n",
      "__________________________________________________________________________________________________\n",
      "batch_normalization (BatchNorma (None, 1, 128)       512         conv1d[0][0]                     \n",
      "__________________________________________________________________________________________________\n",
      "elu (ELU)                       (None, 1, 128)       0           batch_normalization[0][0]        \n",
      "__________________________________________________________________________________________________\n",
      "conv1d_1 (Conv1D)               (None, 1, 64)        8256        elu[0][0]                        \n",
      "__________________________________________________________________________________________________\n",
      "batch_normalization_1 (BatchNor (None, 1, 64)        256         conv1d_1[0][0]                   \n",
      "__________________________________________________________________________________________________\n",
      "elu_1 (ELU)                     (None, 1, 64)        0           batch_normalization_1[0][0]      \n",
      "__________________________________________________________________________________________________\n",
      "conv1d_2 (Conv1D)               (None, 1, 32)        2080        elu_1[0][0]                      \n",
      "__________________________________________________________________________________________________\n",
      "batch_normalization_2 (BatchNor (None, 1, 32)        128         conv1d_2[0][0]                   \n",
      "__________________________________________________________________________________________________\n",
      "elu_2 (ELU)                     (None, 1, 32)        0           batch_normalization_2[0][0]      \n",
      "__________________________________________________________________________________________________\n",
      "conv1d_3 (Conv1D)               (None, 1, 64)        2112        elu_2[0][0]                      \n",
      "__________________________________________________________________________________________________\n",
      "batch_normalization_3 (BatchNor (None, 1, 64)        256         conv1d_3[0][0]                   \n",
      "__________________________________________________________________________________________________\n",
      "elu_3 (ELU)                     (None, 1, 64)        0           batch_normalization_3[0][0]      \n",
      "__________________________________________________________________________________________________\n",
      "conv1d_4 (Conv1D)               (None, 1, 128)       8320        elu_3[0][0]                      \n",
      "__________________________________________________________________________________________________\n",
      "batch_normalization_4 (BatchNor (None, 1, 128)       512         conv1d_4[0][0]                   \n",
      "__________________________________________________________________________________________________\n",
      "elu_4 (ELU)                     (None, 1, 128)       0           batch_normalization_4[0][0]      \n",
      "__________________________________________________________________________________________________\n",
      "classification (Conv1D)         (None, 1, 2)         66          elu_2[0][0]                      \n",
      "__________________________________________________________________________________________________\n",
      "reconstruction (Conv1D)         (None, 1, 53859)     6947811     elu_4[0][0]                      \n",
      "==================================================================================================\n",
      "Total params: 13,864,389\n",
      "Trainable params: 13,863,557\n",
      "Non-trainable params: 832\n",
      "__________________________________________________________________________________________________\n"
     ]
    }
   ],
   "source": [
    "model.summary()"
   ]
  },
  {
   "cell_type": "code",
   "execution_count": 11,
   "metadata": {},
   "outputs": [],
   "source": [
    "def pred_one_class_acc(y):\n",
    "    return sum(y/len(y))\n",
    "    \n",
    "def eval(model, data, labels):\n",
    "    # test on whole dataset\n",
    "    preds = model.predict(data)\n",
    "\n",
    "    if type(preds) == list: preds = preds[0];\n",
    "    preds = np.argmax(preds, axis=-1)\n",
    "    \n",
    "    print('dominant class acc: {}'.format(pred_one_class_acc(labels)))\n",
    "    print('model pred acc: {}'.format(accuracy_score(labels, preds)))\n",
    "    "
   ]
  },
  {
   "cell_type": "code",
   "execution_count": 16,
   "metadata": {},
   "outputs": [
    {
     "name": "stdout",
     "output_type": "stream",
     "text": [
      "dominant class acc: 0.8163265306122455\n",
      "model pred acc: 0.5306122448979592\n"
     ]
    }
   ],
   "source": [
    "eval(model, dataset.test_data, dataset.test_labels)"
   ]
  },
  {
   "cell_type": "markdown",
   "metadata": {},
   "source": [
    "# Machine Learning Stuff..."
   ]
  },
  {
   "cell_type": "code",
   "execution_count": 12,
   "metadata": {},
   "outputs": [
    {
     "name": "stdout",
     "output_type": "stream",
     "text": [
      "(163, 4366)\n"
     ]
    }
   ],
   "source": [
    "transformer = random_projection.GaussianRandomProjection()\n",
    "X_new = transformer.fit_transform(dataset.features.squeeze())\n",
    "print(X_new.shape)"
   ]
  },
  {
   "cell_type": "code",
   "execution_count": 13,
   "metadata": {},
   "outputs": [
    {
     "data": {
      "text/plain": [
       "array([[  7794.5112722 ,  25466.99115922,  50625.08150119, ...,\n",
       "        -18741.85192469, -14975.12450545, -24716.42935759],\n",
       "       [ 11071.49525594,  20976.92404719,  39328.86054669, ...,\n",
       "        -14292.56014547,  -6918.82888456, -19860.47128973],\n",
       "       [  8011.61620477,  17182.79149171,  40489.7180404 , ...,\n",
       "        -12251.25835009,  -8394.20052692, -15792.59517772],\n",
       "       ...,\n",
       "       [ 13475.77548306,  21790.79481885,  44833.57616194, ...,\n",
       "        -12127.87087676, -15508.98270711, -16103.80338758],\n",
       "       [  7025.02032196,  16959.86900662,  42436.73625363, ...,\n",
       "        -14074.24514158, -10336.02692565, -16806.70632879],\n",
       "       [ 10728.48657413,  19286.38915573,  44174.01361244, ...,\n",
       "        -17721.62286345, -15242.08650982, -21161.04696759]])"
      ]
     },
     "execution_count": 13,
     "metadata": {},
     "output_type": "execute_result"
    }
   ],
   "source": [
    "X_new"
   ]
  },
  {
   "cell_type": "code",
   "execution_count": 74,
   "metadata": {},
   "outputs": [],
   "source": [
    "#https://jakevdp.github.io/PythonDataScienceHandbook/05.10-manifold-learning.html"
   ]
  },
  {
   "cell_type": "code",
   "execution_count": 5,
   "metadata": {},
   "outputs": [],
   "source": [
    "from sklearn.manifold import LocallyLinearEmbedding\n",
    "model = LocallyLinearEmbedding(n_neighbors=30, n_components=3, method='modified',\n",
    "                               eigen_solver='dense')\n",
    "\n",
    "out = model.fit_transform(dataset.features.squeeze())"
   ]
  },
  {
   "cell_type": "code",
   "execution_count": 6,
   "metadata": {},
   "outputs": [
    {
     "ename": "NameError",
     "evalue": "name 'pyplot' is not defined",
     "output_type": "error",
     "traceback": [
      "\u001b[0;31m---------------------------------------------------------------------------\u001b[0m",
      "\u001b[0;31mNameError\u001b[0m                                 Traceback (most recent call last)",
      "\u001b[0;32m<ipython-input-6-a055b4bd85e7>\u001b[0m in \u001b[0;36m<module>\u001b[0;34m\u001b[0m\n\u001b[0;32m----> 1\u001b[0;31m \u001b[0mfig\u001b[0m \u001b[0;34m=\u001b[0m \u001b[0mpyplot\u001b[0m\u001b[0;34m.\u001b[0m\u001b[0mfigure\u001b[0m\u001b[0;34m(\u001b[0m\u001b[0;34m)\u001b[0m\u001b[0;34m\u001b[0m\u001b[0;34m\u001b[0m\u001b[0m\n\u001b[0m\u001b[1;32m      2\u001b[0m \u001b[0max\u001b[0m \u001b[0;34m=\u001b[0m \u001b[0mAxes3D\u001b[0m\u001b[0;34m(\u001b[0m\u001b[0mfig\u001b[0m\u001b[0;34m)\u001b[0m\u001b[0;34m\u001b[0m\u001b[0;34m\u001b[0m\u001b[0m\n\u001b[1;32m      3\u001b[0m \u001b[0max\u001b[0m\u001b[0;34m.\u001b[0m\u001b[0mscatter\u001b[0m\u001b[0;34m(\u001b[0m\u001b[0mout\u001b[0m\u001b[0;34m[\u001b[0m\u001b[0;34m:\u001b[0m\u001b[0;34m,\u001b[0m \u001b[0;36m0\u001b[0m\u001b[0;34m]\u001b[0m\u001b[0;34m,\u001b[0m \u001b[0mout\u001b[0m\u001b[0;34m[\u001b[0m\u001b[0;34m:\u001b[0m\u001b[0;34m,\u001b[0m \u001b[0;36m1\u001b[0m\u001b[0;34m]\u001b[0m\u001b[0;34m,\u001b[0m \u001b[0mout\u001b[0m\u001b[0;34m[\u001b[0m\u001b[0;34m:\u001b[0m\u001b[0;34m,\u001b[0m \u001b[0;36m2\u001b[0m\u001b[0;34m]\u001b[0m\u001b[0;34m)\u001b[0m\u001b[0;34m\u001b[0m\u001b[0;34m\u001b[0m\u001b[0m\n\u001b[1;32m      4\u001b[0m \u001b[0;34m\u001b[0m\u001b[0m\n\u001b[1;32m      5\u001b[0m \u001b[0;34m\u001b[0m\u001b[0m\n",
      "\u001b[0;31mNameError\u001b[0m: name 'pyplot' is not defined"
     ]
    }
   ],
   "source": [
    "fig = pyplot.figure()\n",
    "ax = Axes3D(fig)\n",
    "ax.scatter(out[:, 0], out[:, 1], out[:, 2])\n",
    "\n",
    "\n",
    "plt.show()"
   ]
  },
  {
   "cell_type": "code",
   "execution_count": 7,
   "metadata": {},
   "outputs": [],
   "source": [
    "X = dataset.features.squeeze()"
   ]
  },
  {
   "cell_type": "code",
   "execution_count": 91,
   "metadata": {},
   "outputs": [],
   "source": [
    "from sklearn.decomposition import PCA\n",
    "from sklearn.neighbors import KNeighborsClassifier\n",
    "from sklearn.ensemble import RandomForestClassifier\n",
    "\n",
    "\n",
    "Xtr, Xte, Ytr, Yte = [np.array(data.squeeze()) for data in [dataset.train_data, dataset.test_data, dataset.train_labels, dataset.test_labels]]\n",
    "\n",
    "\n",
    "def pca(x, n=10, verbose=False):\n",
    "    model = PCA(n).fit(x)\n",
    "    if verbose:\n",
    "        plt.plot(np.cumsum(model.explained_variance_ratio_))\n",
    "        plt.xlabel('n components')\n",
    "        plt.ylabel('cumulative variance');\n",
    "    return model\n",
    "\n",
    "\n",
    "def results(model, xtr, ytr, xte, yte):\n",
    "    print('train: {}'.format(accuracy_score(ytr, model.predict(xtr))))\n",
    "    print('train pick als: {}'.format(sum(ytr)/len(ytr)))\n",
    "    print('test: {}'.format(accuracy_score(yte, model.predict(xte))))\n",
    "    print('test pick als: {}'.format(sum(yte)/len(yte)))\n",
    "    \n",
    "    \n",
    "\n",
    "def knn(xtr, ytr, xte, yte, n=3):\n",
    "    model = KNeighborsClassifier(n_neighbors=n)\n",
    "    model.fit(xtr, ytr)\n",
    "    \n",
    "    results(model, xtr, ytr, xte, yte)\n",
    "    \n",
    "    \n",
    "def rf(xtr, ytr, xte, yte, n=1):\n",
    "    model = RandomForestClassifier(n_estimators=500, max_depth=2, random_state=0, class_weight='balanced')\n",
    "    model.fit(xtr, ytr)\n",
    "    \n",
    "    results(model, xtr, ytr, xte, yte)"
   ]
  },
  {
   "cell_type": "code",
   "execution_count": 65,
   "metadata": {},
   "outputs": [
    {
     "name": "stdout",
     "output_type": "stream",
     "text": [
      "- KNN\n",
      "train: 0.8596491228070176\n",
      "train pick als: 0.8157894736842105\n",
      "test: 0.7755102040816326\n",
      "test pick als: 0.8163265306122449\n",
      "- PCA\n",
      "train: 0.868421052631579\n",
      "train pick als: 0.8157894736842105\n",
      "test: 0.7551020408163265\n",
      "test pick als: 0.8163265306122449\n",
      "\n",
      "- RF\n",
      "train: 1.0\n",
      "train pick als: 0.8157894736842105\n",
      "test: 0.8163265306122449\n",
      "test pick als: 0.8163265306122449\n",
      "- PCA\n",
      "train: 0.9385964912280702\n",
      "train pick als: 0.8157894736842105\n",
      "test: 0.7346938775510204\n",
      "test pick als: 0.8163265306122449\n"
     ]
    }
   ],
   "source": [
    "# pca\n",
    "pc = pca(Xtr)\n",
    "xtr = pc.transform(Xtr)\n",
    "xte = pc.transform(Xte)\n",
    "\n",
    "print('- KNN')\n",
    "knn(Xtr, Ytr, Xte, Yte)\n",
    "print('- PCA')\n",
    "knn(xtr, Ytr, xte, Yte)\n",
    "print()\n",
    "print('- RF')\n",
    "rf(Xtr, Ytr, Xte, Yte)\n",
    "print('- PCA')\n",
    "rf(xtr, Ytr, xte, Yte)"
   ]
  },
  {
   "cell_type": "code",
   "execution_count": null,
   "metadata": {},
   "outputs": [],
   "source": []
  }
 ],
 "metadata": {
  "kernelspec": {
   "display_name": "Python 3",
   "language": "python",
   "name": "python3"
  },
  "language_info": {
   "codemirror_mode": {
    "name": "ipython",
    "version": 3
   },
   "file_extension": ".py",
   "mimetype": "text/x-python",
   "name": "python",
   "nbconvert_exporter": "python",
   "pygments_lexer": "ipython3",
   "version": "3.6.12"
  }
 },
 "nbformat": 4,
 "nbformat_minor": 4
}
